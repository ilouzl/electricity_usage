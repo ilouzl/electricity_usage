{
 "cells": [
  {
   "cell_type": "code",
   "execution_count": null,
   "metadata": {},
   "outputs": [],
   "source": [
    "import pandas as pd\n",
    "import parsers\n",
    "import plans\n",
    "from matplotlib import pyplot as plt"
   ]
  },
  {
   "cell_type": "code",
   "execution_count": null,
   "metadata": {},
   "outputs": [],
   "source": [
    "df = parsers.read_pazgaz_report('דוח צריכה לירון אילוז 345374663 אפריל-יוני.xlsx')\n",
    "df['day_name'] = df.index.day_name()\n",
    "df.consumption.plot()"
   ]
  },
  {
   "cell_type": "code",
   "execution_count": null,
   "metadata": {},
   "outputs": [],
   "source": [
    "default_rate = 0.6"
   ]
  },
  {
   "cell_type": "code",
   "execution_count": null,
   "metadata": {},
   "outputs": [],
   "source": [
    "total_consumption = df.consumption.sum()\n",
    "print(\"Total consumption: %d KW\"%(total_consumption))\n",
    "print('Cost: %.2f NIS' %(total_consumption * default_rate))"
   ]
  },
  {
   "cell_type": "code",
   "execution_count": null,
   "metadata": {},
   "outputs": [],
   "source": [
    "def apply_plan_discount(df, plan):\n",
    "    total_consumption = df.consumption.sum()\n",
    "    discunted_consumption = 0\n",
    "    for period in plan['periods']:\n",
    "        discunted_consumption += df[df.day_name == period['day']].between_time(period['start'].time(), period['end'].time()).consumption.sum()\n",
    "    \n",
    "    discount = discunted_consumption * plan['discount'] * default_rate\n",
    "    print(f\"Plan: {plan['name']}\")\n",
    "    # print(\"Discunted consumption: %d KW\" %(discunted_consumption))\n",
    "    print(\"Saving: %.2f NIS\" % (discount))\n",
    "    print(\"\")\n",
    "    return discount"
   ]
  },
  {
   "cell_type": "code",
   "execution_count": null,
   "metadata": {},
   "outputs": [],
   "source": [
    "discounts = []\n",
    "for provider in plans.provider_plans:\n",
    "    print(provider['provider'])\n",
    "    for plan in provider['plans']:\n",
    "        d = apply_plan_discount(df, plan)\n",
    "        discounts.append({\"provider\": provider['provider'], \"plan\": plan['name'], \"discount\": d})"
   ]
  },
  {
   "cell_type": "code",
   "execution_count": null,
   "metadata": {},
   "outputs": [],
   "source": [
    "pd.DataFrame(discounts).sort_values(by='discount', ascending=False).reset_index(drop=True)"
   ]
  },
  {
   "cell_type": "code",
   "execution_count": null,
   "metadata": {},
   "outputs": [],
   "source": []
  }
 ],
 "metadata": {
  "kernelspec": {
   "display_name": ".env",
   "language": "python",
   "name": "python3"
  },
  "language_info": {
   "codemirror_mode": {
    "name": "ipython",
    "version": 3
   },
   "file_extension": ".py",
   "mimetype": "text/x-python",
   "name": "python",
   "nbconvert_exporter": "python",
   "pygments_lexer": "ipython3",
   "version": "3.9.12"
  },
  "orig_nbformat": 4
 },
 "nbformat": 4,
 "nbformat_minor": 2
}
