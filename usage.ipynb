{
 "cells": [
  {
   "cell_type": "code",
   "execution_count": null,
   "metadata": {},
   "outputs": [],
   "source": [
    "import pandas as pd\n",
    "from matplotlib import pyplot as plt\n",
    "%matplotlib widget"
   ]
  },
  {
   "cell_type": "code",
   "execution_count": null,
   "metadata": {},
   "outputs": [],
   "source": [
    "def read_report(path):\n",
    "    df = pd.read_csv(path)\n",
    "    df['ts'] = df.apply(lambda x: pd.Timestamp(x['תאריך קריאה'] + \" \" + x['שעת קריאה']), axis=1)\n",
    "    df.rename(columns={'צריכה': 'consumption'}, inplace=True)\n",
    "    df.set_index('ts', inplace=True, drop=True)\n",
    "    dropped_columns = df.columns.tolist(); dropped_columns.remove('consumption')\n",
    "    df.drop(columns=dropped_columns, axis=1, inplace=True)\n",
    "    return df"
   ]
  },
  {
   "cell_type": "code",
   "execution_count": null,
   "metadata": {},
   "outputs": [],
   "source": [
    "df = read_report('power.csv')\n",
    "df['day_name'] = df.index.day_name()\n",
    "df.consumption.plot()"
   ]
  },
  {
   "cell_type": "code",
   "execution_count": null,
   "metadata": {},
   "outputs": [],
   "source": [
    "default_rate = 0.6\n",
    "provider_plans = [\n",
    "    {\"provider\": \"Pazgaz\", \"plans\":\n",
    "        [\n",
    "        {'name': 'unlimited', 'discount': 0.05, 'periods':  \n",
    "                                                        [\n",
    "                                                        {\"day\": day, \"start\":pd.Timestamp('00:00:00'), \"end\": pd.Timestamp('23:59:59')} for day in [\"Sunday\", \"Monday\", \"Tuesday\", \"Wednesday\", \"Thursday\", \"Friday\", \"Saturday\"]\n",
    "                                                        ]\n",
    "        },\n",
    "        {'name': 'weekend', 'discount': 0.1, 'periods':\n",
    "                                                    [\n",
    "                                                    {\"day\": day, \"start\":pd.Timestamp('00:00:00'), \"end\": pd.Timestamp('23:59:59')} for day in [\"Friday\", \"Saturday\"]\n",
    "                                                    ]\n",
    "        },\n",
    "        {'name': 'day', 'discount': 0.15, 'periods':  \n",
    "                                                    [\n",
    "                                                    {\"day\": day, \"start\":pd.Timestamp('08:00:00'), \"end\": pd.Timestamp('15:59:59')} for day in [\"Sunday\", \"Monday\", \"Tuesday\", \"Wednesday\", \"Thursday\", \"Friday\", \"Saturday\"]\n",
    "                                                    ]\n",
    "        },\n",
    "        {'name': 'night', 'discount': 0.15, 'periods':\n",
    "                                                    [\n",
    "                                                    {\"day\": day, \"start\":pd.Timestamp('00:00:00'), \"end\": pd.Timestamp('06:59:59')} for day in [\"Sunday\", \"Monday\", \"Tuesday\", \"Wednesday\", \"Thursday\", \"Friday\", \"Saturday\"]\n",
    "                                                    ] \n",
    "                                                    + \n",
    "                                                    [\n",
    "                                                    {\"day\": day, \"start\":pd.Timestamp('23:00:00'), \"end\": pd.Timestamp('23:59:59')} for day in [\"Sunday\", \"Monday\", \"Tuesday\", \"Wednesday\", \"Thursday\", \"Friday\", \"Saturday\"]\n",
    "                                                    ]\n",
    "        }\n",
    "        ]\n",
    "    },\n",
    "    {\"provider\": \"Cellcom\", \"plans\":\n",
    "        [\n",
    "        {'name': 'Work From Home', 'discount': 0.15, 'periods':  \n",
    "                                                        [\n",
    "                                                        {\"day\": day, \"start\":pd.Timestamp('08:00:00'), \"end\": pd.Timestamp('16:59:59')} for day in [\"Sunday\", \"Monday\", \"Tuesday\", \"Wednesday\", \"Thursday\"]\n",
    "                                                        ]\n",
    "        },\n",
    "        {'name': 'Night Saver', 'discount': 0.2, 'periods':\n",
    "                                                    [\n",
    "                                                    {\"day\": day, \"start\":pd.Timestamp('00:00:00'), \"end\": pd.Timestamp('06:59:59')} for day in [\"Sunday\", \"Monday\", \"Tuesday\", \"Wednesday\", \"Thursday\"]\n",
    "                                                    ] \n",
    "                                                    + \n",
    "                                                    [\n",
    "                                                    {\"day\": day, \"start\":pd.Timestamp('22:00:00'), \"end\": pd.Timestamp('23:59:59')} for day in [\"Sunday\", \"Monday\", \"Tuesday\", \"Wednesday\", \"Thursday\"]\n",
    "                                                    ]\n",
    "        }\n",
    "        ]\n",
    "    },\n",
    "    {\"provider\": \"Electra\", \"plans\":\n",
    "        [\n",
    "        {'name': 'Power 1st year', 'discount': 0.05, 'periods':  \n",
    "                                                        [\n",
    "                                                        {\"day\": day, \"start\":pd.Timestamp('00:00:00'), \"end\": pd.Timestamp('23:59:59')} for day in [\"Sunday\", \"Monday\", \"Tuesday\", \"Wednesday\", \"Thursday\", \"Friday\", \"Saturday\"]\n",
    "                                                        ]\n",
    "        },\n",
    "        {'name': 'Power 2nd year', 'discount': 0.06, 'periods':  \n",
    "                                                        [\n",
    "                                                        {\"day\": day, \"start\":pd.Timestamp('00:00:00'), \"end\": pd.Timestamp('23:59:59')} for day in [\"Sunday\", \"Monday\", \"Tuesday\", \"Wednesday\", \"Thursday\", \"Friday\", \"Saturday\"]\n",
    "                                                        ]\n",
    "        },\n",
    "        {'name': 'Power 3rd year', 'discount': 0.07, 'periods':  \n",
    "                                                        [\n",
    "                                                        {\"day\": day, \"start\":pd.Timestamp('00:00:00'), \"end\": pd.Timestamp('23:59:59')} for day in [\"Sunday\", \"Monday\", \"Tuesday\", \"Wednesday\", \"Thursday\", \"Friday\", \"Saturday\"]\n",
    "                                                        ]\n",
    "        },\n",
    "        {'name': 'HighTech 1st year', 'discount': 0.08, 'periods':  \n",
    "                                                        [\n",
    "                                                        {\"day\": day, \"start\":pd.Timestamp('00:00:00'), \"end\": pd.Timestamp('16:59:59')} for day in [\"Sunday\", \"Monday\", \"Tuesday\", \"Wednesday\", \"Thursday\", \"Friday\", \"Saturday\"]\n",
    "                                                        ]\n",
    "                                                        + \n",
    "                                                        [\n",
    "                                                        {\"day\": day, \"start\":pd.Timestamp('23:00:00'), \"end\": pd.Timestamp('23:59:59')} for day in [\"Sunday\", \"Monday\", \"Tuesday\", \"Wednesday\", \"Thursday\", \"Friday\", \"Saturday\"]\n",
    "                                                        ]\n",
    "        },\n",
    "        {'name': 'HighTech 2nd year', 'discount': 0.09, 'periods':  \n",
    "                                                        [\n",
    "                                                        {\"day\": day, \"start\":pd.Timestamp('00:00:00'), \"end\": pd.Timestamp('16:59:59')} for day in [\"Sunday\", \"Monday\", \"Tuesday\", \"Wednesday\", \"Thursday\", \"Friday\", \"Saturday\"]\n",
    "                                                        ]\n",
    "                                                        + \n",
    "                                                        [\n",
    "                                                        {\"day\": day, \"start\":pd.Timestamp('23:00:00'), \"end\": pd.Timestamp('23:59:59')} for day in [\"Sunday\", \"Monday\", \"Tuesday\", \"Wednesday\", \"Thursday\", \"Friday\", \"Saturday\"]\n",
    "                                                        ]\n",
    "        },\n",
    "        {'name': 'HighTech 3rd year', 'discount': 0.10, 'periods':  \n",
    "                                                        [\n",
    "                                                        {\"day\": day, \"start\":pd.Timestamp('00:00:00'), \"end\": pd.Timestamp('16:59:59')} for day in [\"Sunday\", \"Monday\", \"Tuesday\", \"Wednesday\", \"Thursday\", \"Friday\", \"Saturday\"]\n",
    "                                                        ]\n",
    "                                                        + \n",
    "                                                        [\n",
    "                                                        {\"day\": day, \"start\":pd.Timestamp('23:00:00'), \"end\": pd.Timestamp('23:59:59')} for day in [\"Sunday\", \"Monday\", \"Tuesday\", \"Wednesday\", \"Thursday\", \"Friday\", \"Saturday\"]\n",
    "                                                        ]\n",
    "        },\n",
    "\n",
    "        ]\n",
    "    },\n",
    "]"
   ]
  },
  {
   "cell_type": "code",
   "execution_count": null,
   "metadata": {},
   "outputs": [],
   "source": [
    "total_consumption = df.consumption.sum()\n",
    "print(\"Total consumption: %d KW\"%(total_consumption))\n",
    "print('Cost: %.2f NIS' %(total_consumption * default_rate))"
   ]
  },
  {
   "cell_type": "code",
   "execution_count": null,
   "metadata": {},
   "outputs": [],
   "source": [
    "def apply_plan_discount(df, plan):\n",
    "    total_consumption = df.consumption.sum()\n",
    "    discunted_consumption = 0\n",
    "    for period in plan['periods']:\n",
    "        discunted_consumption += df[df.day_name == period['day']].between_time(period['start'].time(), period['end'].time()).consumption.sum()\n",
    "    print(f\"Plan: {plan['name']}\")\n",
    "    # print(\"Discunted consumption: %d KW\" %(discunted_consumption))\n",
    "    print(\"Saving: %.2f NIS\" % (discunted_consumption * plan['discount'] * default_rate))\n",
    "    print(\"\")"
   ]
  },
  {
   "cell_type": "code",
   "execution_count": null,
   "metadata": {},
   "outputs": [],
   "source": [
    "for provider in provider_plans:\n",
    "    print(provider['provider'])\n",
    "    for plan in provider['plans']:\n",
    "        apply_plan_discount(df, plan)"
   ]
  },
  {
   "cell_type": "code",
   "execution_count": null,
   "metadata": {},
   "outputs": [],
   "source": []
  }
 ],
 "metadata": {
  "kernelspec": {
   "display_name": ".env",
   "language": "python",
   "name": "python3"
  },
  "language_info": {
   "codemirror_mode": {
    "name": "ipython",
    "version": 3
   },
   "file_extension": ".py",
   "mimetype": "text/x-python",
   "name": "python",
   "nbconvert_exporter": "python",
   "pygments_lexer": "ipython3",
   "version": "3.9.12"
  },
  "orig_nbformat": 4
 },
 "nbformat": 4,
 "nbformat_minor": 2
}
